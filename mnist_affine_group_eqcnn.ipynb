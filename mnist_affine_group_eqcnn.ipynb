{
 "cells": [
  {
   "cell_type": "code",
   "execution_count": 41,
   "metadata": {},
   "outputs": [],
   "source": [
    "import torch\n",
    "import torch.nn as nn\n",
    "import torch.optim as optim\n",
    "from torch.utils.data import DataLoader\n",
    "from torchvision import datasets, transforms\n",
    "from escnn.gspaces.r2 import rot2dOnR2\n",
    "from escnn import nn as escnn_nn"
   ]
  },
  {
   "cell_type": "code",
   "execution_count": 42,
   "metadata": {},
   "outputs": [],
   "source": [
    "# Hyperparameters\n",
    "batch_size = 64\n",
    "learning_rate = 0.001\n",
    "epochs = 5\n",
    "\n",
    "# Data transformations\n",
    "transform = transforms.Compose([transforms.ToTensor(), transforms.Normalize((0.5,), (0.5,))])\n",
    "\n",
    "# Load datasets\n",
    "train_dataset = datasets.MNIST(root='./data', train=True, download=True, transform=transform)\n",
    "test_dataset = datasets.MNIST(root='./data', train=False, download=True, transform=transform)\n",
    "\n",
    "train_loader = DataLoader(train_dataset, batch_size=batch_size, shuffle=True)\n",
    "test_loader = DataLoader(test_dataset, batch_size=batch_size, shuffle=False)\n"
   ]
  },
  {
   "cell_type": "code",
   "execution_count": 70,
   "metadata": {},
   "outputs": [],
   "source": [
    "class EquivariantCNN(nn.Module):\n",
    "    def __init__(self):\n",
    "        super(EquivariantCNN, self).__init__()\n",
    "        r2_act = rot2dOnR2(N=4)  # Rotational symmetry group\n",
    "\n",
    "        # Define the layers\n",
    "        self.input_type = escnn_nn.FieldType(r2_act, [r2_act.trivial_repr])\n",
    "        self.conv1 = escnn_nn.R2Conv(\n",
    "            escnn_nn.FieldType(r2_act, [r2_act.trivial_repr]), \n",
    "            escnn_nn.FieldType(r2_act, 8 * [r2_act.regular_repr]), \n",
    "            kernel_size=3, padding=1\n",
    "        )\n",
    "        self.bn1 = escnn_nn.InnerBatchNorm(escnn_nn.FieldType(r2_act, 8 * [r2_act.regular_repr]))\n",
    "        self.relu1 = escnn_nn.ReLU(escnn_nn.FieldType(r2_act, 8 * [r2_act.regular_repr]))\n",
    "\n",
    "        self.pool1 = escnn_nn.PointwiseAvgPoolAntialiased(\n",
    "            escnn_nn.FieldType(r2_act, 8 * [r2_act.regular_repr]), \n",
    "            sigma=0.66, stride=2\n",
    "        )\n",
    "\n",
    "        self.conv2 = escnn_nn.R2Conv(\n",
    "            escnn_nn.FieldType(r2_act, 8 * [r2_act.regular_repr]), \n",
    "            escnn_nn.FieldType(r2_act, 16 * [r2_act.regular_repr]), \n",
    "            kernel_size=3, padding=1\n",
    "        )\n",
    "        self.bn2 = escnn_nn.InnerBatchNorm(escnn_nn.FieldType(r2_act, 16 * [r2_act.regular_repr]))\n",
    "        self.relu2 = escnn_nn.ReLU(escnn_nn.FieldType(r2_act, 16 * [r2_act.regular_repr]))\n",
    "\n",
    "        self.pool2 = escnn_nn.PointwiseAvgPoolAntialiased(\n",
    "            escnn_nn.FieldType(r2_act, 16 * [r2_act.regular_repr]), \n",
    "            sigma=0.66, stride=2\n",
    "        )\n",
    "\n",
    "        self.gpool = escnn_nn.GroupPooling(escnn_nn.FieldType(r2_act, 16 * [r2_act.regular_repr]))\n",
    "\n",
    "        self.fc1 = nn.Linear(16 * 7 * 7, 128)\n",
    "        self.fc2 = nn.Linear(128, 10)\n",
    "\n",
    "    def forward(self, x):\n",
    "        x = escnn_nn.GeometricTensor(x, self.input_type)\n",
    "        x = self.conv1(x)\n",
    "        x = self.bn1(x)\n",
    "        x = self.relu1(x)\n",
    "        x = self.pool1(x)\n",
    "\n",
    "        x = self.conv2(x)\n",
    "        x = self.bn2(x)\n",
    "        x = self.relu2(x)\n",
    "        x = self.pool2(x)\n",
    "\n",
    "        x = self.gpool(x)\n",
    "        x = x.tensor.view(x.tensor.size(0), -1)\n",
    "        x = self.fc1(x)\n",
    "        x = self.fc2(x)\n",
    "        return x"
   ]
  },
  {
   "cell_type": "code",
   "execution_count": 71,
   "metadata": {},
   "outputs": [],
   "source": [
    "# Initialize model, loss function, and optimizer\n",
    "model = EquivariantCNN()"
   ]
  },
  {
   "cell_type": "code",
   "execution_count": null,
   "metadata": {},
   "outputs": [],
   "source": [
    "criterion = nn.CrossEntropyLoss()\n",
    "optimizer = optim.Adam(model.parameters(), lr=learning_rate)\n",
    "\n",
    "# Training loop\n",
    "for epoch in range(epochs):\n",
    "    model.train()\n",
    "    for images, labels in train_loader:\n",
    "        optimizer.zero_grad()\n",
    "        outputs = model(images)\n",
    "        loss = criterion(outputs, labels)\n",
    "        loss.backward()\n",
    "        optimizer.step()\n",
    "    print(f'Epoch [{epoch+1}/{epochs}], Loss: {loss.item():.4f}')\n",
    "\n",
    "# Testing loop\n",
    "model.eval()\n",
    "correct = 0\n",
    "total = 0\n",
    "with torch.no_grad():\n",
    "    for images, labels in test_loader:\n",
    "        outputs = model(images)\n",
    "        _, predicted = torch.max(outputs.data, 1)\n",
    "        total += labels.size(0)\n",
    "        correct += (predicted == labels).sum().item()\n",
    "\n",
    "print(f'Accuracy of the model on the test images: {100 * correct / total:.2f}%')"
   ]
  },
  {
   "cell_type": "code",
   "execution_count": null,
   "metadata": {},
   "outputs": [],
   "source": []
  }
 ],
 "metadata": {
  "kernelspec": {
   "display_name": "equivariant_nn",
   "language": "python",
   "name": "python3"
  },
  "language_info": {
   "codemirror_mode": {
    "name": "ipython",
    "version": 3
   },
   "file_extension": ".py",
   "mimetype": "text/x-python",
   "name": "python",
   "nbconvert_exporter": "python",
   "pygments_lexer": "ipython3",
   "version": "3.8.20"
  }
 },
 "nbformat": 4,
 "nbformat_minor": 2
}
